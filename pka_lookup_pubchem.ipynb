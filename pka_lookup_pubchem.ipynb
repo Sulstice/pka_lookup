{
 "cells": [
  {
   "cell_type": "markdown",
   "metadata": {},
   "source": [
    "##### Import libraries\n"
   ]
  },
  {
   "cell_type": "code",
   "execution_count": 1,
   "metadata": {},
   "outputs": [],
   "source": [
    "import pubchempy as pcp  # https://pubchempy.readthedocs.io/en/latest/guide/gettingstarted.html\n",
    "import requests\n",
    "import xml.etree.ElementTree as ET"
   ]
  },
  {
   "cell_type": "markdown",
   "metadata": {},
   "source": [
    "\n",
    "##### Search for pubchem cid ('Compound ID')\n"
   ]
  },
  {
   "cell_type": "code",
   "execution_count": 2,
   "metadata": {},
   "outputs": [
    {
     "name": "stdout",
     "output_type": "stream",
     "text": [
      "Searching Pubchem...\n",
      "[176]\n"
     ]
    }
   ],
   "source": [
    "cas_nr = '64-19-7'    # acetic acid   >>> pKa = 4.76 at 25 °C\n",
    "# cas_nr = '2950-43-8'    # Hydroxylamine-O-sulfonic acid, no result\n",
    "# cas_nr = '75-75-2'    # methanesulfonic acid   >>> pKa = -1.86\n",
    "\n",
    "headers = {\n",
    "    'user-agent': 'Mozilla/5.0 (X11; CentOS; Linux x86_64) AppleWebKit/537.36 (KHTML, like Gecko) Chrome/73.0.3683.75 Safari/537.36'}\n",
    "\n",
    "print('Searching Pubchem...')\n",
    "\n",
    "# Using pubchem api for python\n",
    "# Getting CID number, the result of this, by default is exact match. The result is returned as a list.\n",
    "# cid = pcp.get_cids(cas_nr, 'name', 'substance', list_return='flat')\n",
    "cid = pcp.get_cids(cas_nr, 'name')\n",
    "print(cid)"
   ]
  },
  {
   "cell_type": "markdown",
   "metadata": {},
   "source": [
    "\n",
    "##### if cid is found, then double check with the CAS# using 'synonyms'\n"
   ]
  },
  {
   "cell_type": "code",
   "execution_count": 3,
   "metadata": {},
   "outputs": [],
   "source": [
    "#  this api return an empty list if it cannot find cas_nr. This is to check if pubchem has this chemical.\n",
    "if len(cid) > 0:\n",
    "    # if Pubchem found the result, get the first result of the list\n",
    "    cid = cid[0]\n",
    "    # print('Compound ID (CID) from PubChem is: {} and type is: {}'.format(cid, type(cid)))\n",
    "\n",
    "    # To double check if the CAS number is correct:\n",
    "    # using pubchem api, get a list of synonym. The result is a list of dict.\n",
    "    # choose the first result and check all values for 'Synonym' key:\n",
    "    synonyms = pcp.get_synonyms(cid)[0]['Synonym']\n",
    "#     print('List of synonyms is: {}'.format(synonyms))"
   ]
  },
  {
   "cell_type": "markdown",
   "metadata": {},
   "source": [
    "\n",
    "##### Raise Exception if it is not an exact match\n",
    "##### If it is an exact match, put a requests to Pubchem pug with 'Dissociation Constants' heading\n"
   ]
  },
  {
   "cell_type": "code",
   "execution_count": 4,
   "metadata": {},
   "outputs": [
    {
     "name": "stdout",
     "output_type": "stream",
     "text": [
      "<?xml version=\"1.0\" encoding=\"UTF-8\"?>\n",
      "<Record\n",
      "    xmlns=\"http://pubchem.ncbi.nlm.nih.gov/pug_view\"\n",
      "    xmlns:xs=\"http://www.w3.org/2001/XMLSchema-instance\"\n",
      "    xs:schemaLocation=\"http://pubchem.ncbi.nlm.nih.gov/pug_view https://pubchem.ncbi.nlm.nih.gov/pug_view/pug_view.xsd\"\n",
      ">\n",
      "  <RecordType>CID</RecordType>\n",
      "  <RecordNumber>176</RecordNumber>\n",
      "  <RecordTitle>Acetic acid</RecordTitle>\n",
      "  <Section>\n",
      "    <TOCHeading>Chemical and Physical Properties</TOCHeading>\n",
      "    <Description>Chemical and physical properties such as melting point, molecular weight, etc.</Description>\n",
      "    <Section>\n",
      "      <TOCHeading>Experimental Properties</TOCHeading>\n",
      "      <Description>Properties determined experimentally (See also Safety and Hazard Properties section for more information if available)</Description>\n",
      "      <Section>\n",
      "        <TOCHeading>Dissociation Constants</TOCHeading>\n",
      "        <Description>A specific type of equilibrium constant that measures the propensity of a larger object to separate (dissociate) reversibly into smaller components, as when a complex falls apart into its component molecules, or when a salt splits up into its component ions.</Description>\n",
      "        <Information>\n",
      "          <ReferenceNumber>39</ReferenceNumber>\n",
      "          <Description>PEER REVIEWED</Description>\n",
      "          <Reference>Serjeant, E.P., Dempsey B.; Ionisation Constants of Organic  Acids in Aqueous Solution. International Union of Pure and  Applied Chemistry (IUPAC). IUPAC Chemical Data Series No.  23, 1979. New York, New York: Pergamon Press, Inc., p. 989</Reference>\n",
      "          <Value>\n",
      "            <StringWithMarkup>\n",
      "              <String>pKa = 4.76 at 25 °C</String>\n",
      "            </StringWithMarkup>\n",
      "          </Value>\n",
      "        </Information>\n",
      "      </Section>\n",
      "    </Section>\n",
      "  </Section>\n",
      "  <Reference>\n",
      "    <ReferenceNumber>39</ReferenceNumber>\n",
      "    <SourceName>HSDB</SourceName>\n",
      "    <SourceID>40</SourceID>\n",
      "    <Name>ACETIC ACID</Name>\n",
      "    <Description>HSDB is a toxicology database that focuses on the toxicology of potentially hazardous chemicals. It provides information on human exposure, industrial hygiene, emergency handling procedures, environmental fate, regulatory requirements, nanomaterials, and related areas. The information in HSDB has been assessed by a Scientific Review Panel.</Description>\n",
      "    <URL>https://pubchem.ncbi.nlm.nih.gov/source/hsdb/40</URL>\n",
      "    <IsToxnet>true</IsToxnet>\n",
      "    <ANID>11</ANID>\n",
      "  </Reference>\n",
      "</Record>\n",
      "\n"
     ]
    }
   ],
   "source": [
    "    if cas_nr not in synonyms:\n",
    "        raise ValueError('\\tThis is not an exact match!')\n",
    "\n",
    "    '''\n",
    "    get url from Pubchem to get pka lookup result\n",
    "    'XML' can be replaced with 'JSON' but it is harder to parse later on\n",
    "    for more info about Pubchem output types: https://pubchemdocs.ncbi.nlm.nih.gov/pug-rest$_Toc494865558\n",
    "    '''\n",
    "    pka_lookup_result_xml = 'https://pubchem.ncbi.nlm.nih.gov/rest/pug_view/data/compound/{}/XML?heading=Dissociation+Constants'.format(cid)\n",
    "\n",
    "    # Get the html request info using CID number from pubchem\n",
    "    r = requests.get(pka_lookup_result_xml, headers=headers, timeout=15)\n",
    "    # Check to see if give OK status (200) and not redirect\n",
    "    if r.status_code == 200 and len(r.history) == 0:\n",
    "        print(r.text)\n",
    "        # Use python XML to parse the return result\n",
    "        tree = ET.fromstring(r.text)"
   ]
  },
  {
   "cell_type": "code",
   "execution_count": 5,
   "metadata": {},
   "outputs": [
    {
     "name": "stdout",
     "output_type": "stream",
     "text": [
      "pKa = 4.76 at 25 °C\n"
     ]
    }
   ],
   "source": [
    "        pka_result = ''\n",
    "    \n",
    "        for node in tree.iter('{http://pubchem.ncbi.nlm.nih.gov/pug_view}String'):\n",
    "#             print(node.text)\n",
    "            pka_result = node.text\n",
    "        \n",
    "        print(pka_result)\n",
    "\n"
   ]
  },
  {
   "cell_type": "markdown",
   "metadata": {},
   "source": [
    "---\n",
    "The next part is an example of searching for substance in Pubchem in case compounds cannot be found.\n",
    "**Note that the below part has not been adapted to searching for pKa**"
   ]
  },
  {
   "cell_type": "code",
   "execution_count": 6,
   "metadata": {},
   "outputs": [],
   "source": [
    "# # If not, try to find substances as well\n",
    "# elif len(cid) == 0:\n",
    "#     '''pcp.get_substances(cas_nr, 'name') returns a list of Substances if found: \n",
    "#     Ref: https://github.com/mcs07/PubChemPy/blob/e3c4f4a9b6120433e5cc3383464c7a79e9b2b86e/pubchempy.py#L328'''\n",
    "#     substances = pcp.get_substances(cas_nr, 'name')   \n",
    "#     # print(sid); exit(0)\n",
    "\n",
    "#     if len(substances) == 0:\n",
    "#         # print('nothing here')\n",
    "#         raise ValueError('Could not find any compounds or substances with this CAS {} on Pubchem.'.format(cas_nr))\n",
    "#     else:\n",
    "#         for substance in substances:\n",
    "#             # print('Substance ID (SID) from PubChem is: {} and type is: {}'.format(substance, type(substance)))\n",
    "\n",
    "#             '''Ref: https://github.com/mcs07/PubChemPy/blob/e3c4f4a9b6120433e5cc3383464c7a79e9b2b86e/pubchempy.py#L735'''\n",
    "#             # substance_synonyms = substance.to_dict(properties=['synonyms'])['synonyms']\n",
    "#             '''\n",
    "#             substance.to_dict(properties=['synonyms']) return example:\n",
    "#             {'synonyms': ['12259-21-1', 'Iron oxide (Fe2O3), hydrate', 'Ferric oxide hydrate', \n",
    "#                             'Ferrox', 'Hydrated ferric oxide', 'Hydrous ferric oxide', \n",
    "#                             'Iron oxide (Fe203), hydrate']}\n",
    "#             '''\n",
    "\n",
    "#             substance_synonyms = substance.synonyms   # https://github.com/mcs07/PubChemPy/blob/e3c4f4a9b6120433e5cc3383464c7a79e9b2b86e/pubchempy.py#L1095\n",
    "#             '''\n",
    "#             substance.synonyms' return example:\n",
    "#                 ['12259-21-1', 'Iron oxide (Fe2O3), hydrate', 'Ferric oxide hydrate', \n",
    "#                 'Ferrox', 'Hydrated ferric oxide', 'Hydrous ferric oxide', \n",
    "#                 'Iron oxide (Fe203), hydrate']\n",
    "#             '''\n",
    "\n",
    "#             # Check to make sure the substance has the same CAS#\n",
    "#             if cas_nr in substance_synonyms:\n",
    "#                 sdf = pcp.get_sdf(identifier=substance.sid, namespace='sid', domain='substance')\n",
    "#                 # print(sdf)\n",
    "#                 if sdf:    # pcp.get_sdf return None if not found SDF                               \n",
    "#                     download_file.write_text(data=sdf)\n",
    "\n",
    "#                     # Check if the mol file is a binary string (some error during downloading) or empty mol file:\n",
    "#                     if is_binary_string(open(download_file, 'rb').read(1024)) or is_empty_mol_file(download_file):\n",
    "#                         os.remove(download_file)    # remove the error mol file\n",
    "#                     else:\n",
    "#                         return 0"
   ]
  },
  {
   "cell_type": "code",
   "execution_count": null,
   "metadata": {},
   "outputs": [],
   "source": []
  }
 ],
 "metadata": {
  "kernelspec": {
   "display_name": "Python 3",
   "language": "python",
   "name": "python3"
  },
  "language_info": {
   "codemirror_mode": {
    "name": "ipython",
    "version": 3
   },
   "file_extension": ".py",
   "mimetype": "text/x-python",
   "name": "python",
   "nbconvert_exporter": "python",
   "pygments_lexer": "ipython3",
   "version": "3.7.3"
  }
 },
 "nbformat": 4,
 "nbformat_minor": 2
}
