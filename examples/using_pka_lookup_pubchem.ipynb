{
 "cells": [
  {
   "cell_type": "code",
   "execution_count": 1,
   "metadata": {
    "scrolled": false
   },
   "outputs": [],
   "source": [
    "# https://mg.readthedocs.io/importing-local-python-modules-from-jupyter-notebooks/sys-path-in-notebook/path-notebook.html\n",
    "# This is required to be able to import local python file in different folder\n",
    "import os\n",
    "import sys\n",
    "sys.path.insert(0, os.path.abspath('../src'))\n",
    "# sys.path"
   ]
  },
  {
   "cell_type": "markdown",
   "metadata": {},
   "source": [
    "#### Import libraries and packages"
   ]
  },
  {
   "cell_type": "code",
   "execution_count": 2,
   "metadata": {},
   "outputs": [],
   "source": [
    "from pka_lookup_pubchem import pka_lookup_pubchem\n",
    "import pubchempy as pcp\n",
    "import re\n",
    "import json"
   ]
  },
  {
   "cell_type": "markdown",
   "metadata": {},
   "source": [
    "## Standard usage:"
   ]
  },
  {
   "cell_type": "code",
   "execution_count": 3,
   "metadata": {},
   "outputs": [
    {
     "name": "stdout",
     "output_type": "stream",
     "text": [
      "Example looking up by CAS:\n",
      "{'input': '64-19-7', 'source': 'Pubchem', 'Pubchem CID': 176, 'pka': '4.76 at 25 °C', 'reference': 'Serjeant, E.P., Dempsey B.; Ionisation Constants of Organic  Acids in Aqueous Solution. International Union of Pure and  Applied Chemistry (IUPAC). IUPAC Chemical Data Series No.  23, 1979. New York, New York: Pergamon Press, Inc., p. 989'}\n",
      "None\n"
     ]
    }
   ],
   "source": [
    "print('Example looking up by CAS:')\n",
    "cas_nr = '64-19-7'    # acetic acid   >>> pKa = 4.76 at 25 °C\n",
    "print(pka_lookup_pubchem(cas_nr))\n",
    "# cas_nr = '75-75-2'    # methanesulfonic acid   >>> pKa = -1.86\n",
    "cas_nr = '2950-43-8'    # Hydroxylamine-O-sulfonic acid, no result\n",
    "print(pka_lookup_pubchem(cas_nr))"
   ]
  },
  {
   "cell_type": "code",
   "execution_count": 4,
   "metadata": {},
   "outputs": [
    {
     "name": "stdout",
     "output_type": "stream",
     "text": [
      "Example looking up by SMILES:\n",
      "pKa from Pubchem using smiles:\n",
      "{'input': 'OC1=CC=CC=C1', 'source': 'Pubchem', 'Pubchem CID': 996, 'pka': '9.99 @ 25 °C', 'reference': 'Lide, D.R. (ed.). CRC Handbook of Chemistry and Physics. 83rd ed. Boca Raton, Fl: CRC Press Inc., 2002-2003., p. 8-49'}\n",
      "pKa from Pubchem using smiles:\n",
      "None\n"
     ]
    }
   ],
   "source": [
    "print('Example looking up by SMILES:')\n",
    "# smiles_string = 'OC=1(N(N=C(C=1)C2(=CC=CC=C2))C)'\n",
    "smiles_string = 'OC1=CC=CC=C1'\n",
    "\n",
    "# # Look up pKa using pka_lookup_pubchem():\n",
    "# print(f'pKa from Pubchem using smiles:\\n{pka_lookup_pubchem(smiles_string)}')\n",
    "print(f'pKa from Pubchem using smiles:\\n{pka_lookup_pubchem(smiles_string, \"smiles\")}')\n",
    "      \n",
    "smiles_string = 'C1=CC(=CC=C1F)S'\n",
    "print(f'pKa from Pubchem using smiles:\\n{pka_lookup_pubchem(smiles_string, \"smiles\")}')"
   ]
  },
  {
   "cell_type": "code",
   "execution_count": 5,
   "metadata": {},
   "outputs": [
    {
     "name": "stdout",
     "output_type": "stream",
     "text": [
      "Example looking up by InChI:\n",
      "pKa from Pubchem using InChI:\n",
      "None\n",
      "pKa from Pubchem using InChI:\n",
      "None\n",
      "pKa from Pubchem using InChI:\n",
      "{'input': 'InChI=1S/C6H6S/c7-6-4-2-1-3-5-6/h1-5,7H', 'source': 'Pubchem', 'Pubchem CID': 7969, 'pka': '6.62', 'reference': 'Serjeant, E.P., Dempsey B.; Ionisation Constants of Organic  Acids in Aqueous Solution. International Union of Pure and  Applied Chemistry (IUPAC). IUPAC Chemical Data Series No.  23, 1979. New York, New York: Pergamon Press, Inc., p. 165'}\n"
     ]
    }
   ],
   "source": [
    "print('Example looking up by InChI:')\n",
    "\n",
    "# this is NOT an exact match from Pubchem return search\n",
    "inchi_string = 'InChI=1S/C10H10N2O/c1-12-10(13)7-9(11-12)8-5-3-2-4-6-8/h2-7,13H,1H3'\n",
    "print(f'pKa from Pubchem using InChI:\\n{pka_lookup_pubchem(inchi_string, \"inchi\")}')\n",
    "\n",
    "# this is an exact match from Pubchem with no pKa \n",
    "inchi_string = 'InChI=1S/C10H10N2O/c1-12-10(13)7-9(11-12)8-5-3-2-4-6-8/h2-7,11H,1H3'\n",
    "# print(f'pKa from Pubchem using InChI:\\n{pka_lookup_pubchem(inchi_string)}')\n",
    "print(f'pKa from Pubchem using InChI:\\n{pka_lookup_pubchem(inchi_string, \"inchi\")}')\n",
    "# print(f'pKa from Pubchem using InChI:\\n{pka_lookup_pubchem(inchi_string, \"smiles\")}')    # this function call has wrong 'namespace' (should be 'inchi', not 'smiles'). Therefore, return Pubchem CID even though it is not an exact match.\n",
    "\n",
    "inchi_string = 'InChI=1S/C6H6S/c7-6-4-2-1-3-5-6/h1-5,7H'    # thiophenol\n",
    "print(f'pKa from Pubchem using InChI:\\n{pka_lookup_pubchem(inchi_string, \"inchi\")}')"
   ]
  },
  {
   "cell_type": "code",
   "execution_count": 6,
   "metadata": {},
   "outputs": [
    {
     "name": "stdout",
     "output_type": "stream",
     "text": [
      "pKa from Pubchem using InChIKey:\n",
      "{'input': 'OKKJLVBELUTLKV-UHFFFAOYSA-N', 'source': 'Pubchem', 'Pubchem CID': 887, 'pka': '15.3', 'reference': 'Serjeant, E.P., Dempsey B.; Ionisation Constants of Organic  Acids in Aqueous Solution. International Union of Pure and  Applied Chemistry (IUPAC). IUPAC Chemical Data Series No.  23, 1979. New York, New York: Pergamon Press, Inc., p. 989'}\n",
      "pKa from Pubchem using InChIKey:\n",
      "None\n"
     ]
    }
   ],
   "source": [
    "inchikey_string = 'OKKJLVBELUTLKV-UHFFFAOYSA-N'    # methanol\n",
    "print(f'pKa from Pubchem using InChIKey:\\n{pka_lookup_pubchem(inchikey_string, \"inchikey\")}')\n",
    "      \n",
    "inchikey_string = 'SNAOXHWORPTDTJ-UHFFFAOYNA-N'    # structure not found in pubchem\n",
    "print(f'pKa from Pubchem using InChIKey:\\n{pka_lookup_pubchem(inchikey_string, \"inchikey\")}')"
   ]
  },
  {
   "cell_type": "markdown",
   "metadata": {},
   "source": [
    "## More usage cases:"
   ]
  },
  {
   "cell_type": "markdown",
   "metadata": {},
   "source": [
    "### Using smiles to look up CAS number then search pKa from pubchem\n",
    "**Several SMILES strings can represent the same molecule**"
   ]
  },
  {
   "cell_type": "code",
   "execution_count": 7,
   "metadata": {},
   "outputs": [
    {
     "name": "stdout",
     "output_type": "stream",
     "text": [
      "Example 1:\n",
      "[{'CID': 2763504, 'CASNumber': '34347-81-4'}]\n",
      "[{'CID': 2763504, 'CASNumber': '34347-81-4'}]\n",
      "Example 2:\n",
      "[{'CID': 67789, 'CASNumber': '371-42-6'}]\n",
      "Example 3:\n",
      "[{'CID': 16257, 'CASNumber': '2037-31-2'}]\n",
      "[{'CID': 16257, 'CASNumber': '2037-31-2'}]\n",
      "[{'CID': 16257, 'CASNumber': '2037-31-2'}]\n",
      "Example 4:\n",
      "[{'CID': 12421053, 'CASNumber': '64754-67-2'}]\n",
      "[{'CID': 12421053, 'CASNumber': '64754-67-2'}]\n"
     ]
    }
   ],
   "source": [
    "def get_cas(identifier, namespace=None, domain='compound', searchtype=None, **kwargs):\n",
    "    \"\"\" Look up CAS number using Pubchem\n",
    "    \n",
    "    Possible input for 'namespace':\n",
    "    https://pubchempy.readthedocs.io/en/latest/guide/advanced.html#summary-of-possible-inputs\n",
    "        <identifier> = list of cid, sid, aid, source, inchikey, listkey; string of name, smiles, xref, inchi, sdf;\n",
    "        <domain> = substance | compound | assay\n",
    "\n",
    "        compound domain\n",
    "        <namespace> = cid | name | smiles | inchi | sdf | inchikey | <structure search> | <xref> | listkey | formula\n",
    "        <operation> = record | property/[comma-separated list of property tags] | synonyms | sids | cids | aids | assaysummary | classification\n",
    "\n",
    "        substance domain\n",
    "        <namespace> = sid | sourceid/<source name> | sourceall/<source name> | name | <xref> | listkey\n",
    "        <operation> = record | synonyms | sids | cids | aids | assaysummary | classification\n",
    "\n",
    "        assay domain\n",
    "        <namespace> = aid | listkey | type/<assay type> | sourceall/<source name>\n",
    "        <assay type> = all | confirmatory | doseresponse | onhold | panel | rnai | screening | summary\n",
    "        <operation> = record | aids | sids | cids | description | targets/{ProteinGI, ProteinName, GeneID, GeneSymbol} | doseresponse/sid\n",
    "\n",
    "    \"\"\"\n",
    "    cids = []\n",
    "    if not namespace:\n",
    "        for name in ['name', 'smiles', 'inchi', 'inchikey']:\n",
    "            lookup = pcp.get_cids(identifier, namespace=name)\n",
    "            if lookup:\n",
    "                cids.append(lookup[0])\n",
    "                break\n",
    "    else:\n",
    "        cids = pcp.get_cids(identifier, namespace=namespace)\n",
    "\n",
    "    result = []\n",
    "    for cid in cids:\n",
    "        synonyms_lookup = pcp.get_synonyms(cid)\n",
    "        synonyms = synonyms_lookup[0]['Synonym'] if synonyms_lookup else []\n",
    "        for synonym in synonyms:\n",
    "            cas_nr = re.search(r'^\\d{2,7}-\\d{2}-\\d$', synonym)\n",
    "            if cas_nr:\n",
    "                cas_nr = cas_nr.group()\n",
    "                result.append({\n",
    "                    'CID': cid,\n",
    "                    'CASNumber': cas_nr,\n",
    "                })\n",
    "                break\n",
    "    return result\n",
    "\n",
    "\n",
    "print('Example 1:')\n",
    "'''IMPORTANT:The following smiles is an enol tautomer but when looked up on Pubchem will give the ketone tautomer\n",
    "This is the Pubchem problem and not pubchempy library error'''\n",
    "print(get_cas('OC=1(N(N=C(C=1)C2(=CC=CC=C2))C)'))    # return: [{'CID': 2763504, 'CASNumber': '34347-81-4'}]\n",
    "print(get_cas('OC=1(N(N=C(C=1)C2(=CC=CC=C2))C)', 'smiles'))    # return: [{'CID': 2763504, 'CASNumber': '34347-81-4'}]\n",
    "\n",
    "print('Example 2:')\n",
    "print(get_cas('C1=CC(=CC=C1F)S'))    # return: [{'CID': 67789, 'CASNumber': '371-42-6'}]\n",
    "\n",
    "print('Example 3:')\n",
    "print(get_cas('InChI=1S/C6H5ClS/c7-5-2-1-3-6(8)4-5/h1-4,8H'))    # return [{'CID': 16257, 'CASNumber': '2037-31-2'}]\n",
    "print(get_cas('InChI=1S/C6H5ClS/c7-5-2-1-3-6(8)4-5/h1-4,8H', 'inchi'))\n",
    "print(get_cas('InChI=1S/C6H5ClS/c7-5-2-1-3-6(8)4-5/h1-4,8H', 'smiles'))    # wrong 'namespace' input but still works\n",
    "\n",
    "print('Example 4:')\n",
    "print(get_cas('FTUPSXHUCWFVNH-UHFFFAOYSA-N'))    # return [{'CID': 12421053, 'CASNumber': '64754-67-2'}]\n",
    "# print(get_cas('FTUPSXHUCWFVNH-UHFFFAOYSA-N', 'inchi'))    # wrong 'namespace' input -> Error\n",
    "# print(get_cas('FTUPSXHUCWFVNH-UHFFFAOYSA-N', 'smiles'))   # wrong 'namespace' input -> Error\n",
    "print(get_cas('FTUPSXHUCWFVNH-UHFFFAOYSA-N', 'inchikey'))    # wrong 'namespace' input but still works"
   ]
  },
  {
   "cell_type": "code",
   "execution_count": 8,
   "metadata": {},
   "outputs": [
    {
     "name": "stdout",
     "output_type": "stream",
     "text": [
      "[2763504]\n",
      "pKa from Pubchem using CAS: None\n",
      "pKa from Pubchem using smiles: None\n"
     ]
    }
   ],
   "source": [
    "# smiles_string = 'C1=CC(=CC=C1F)S'\n",
    "smiles_string = 'OC=1(N(N=C(C=1)C2(=CC=CC=C2))C)'\n",
    "\n",
    "# Look up CAS:\n",
    "cas_nr = get_cas(smiles_string)[0]['CASNumber'] or None\n",
    "\n",
    "print(pcp.get_cids(smiles_string, 'smiles'))\n",
    "# Look up pKa using pka_lookup_pubchem():\n",
    "# result_from_pubchem = pka_lookup_pubchem(cas_nr)\n",
    "print(f'pKa from Pubchem using CAS: {pka_lookup_pubchem(cas_nr)}')\n",
    "print(f'pKa from Pubchem using smiles: {pka_lookup_pubchem(smiles_string)}')"
   ]
  },
  {
   "cell_type": "markdown",
   "metadata": {},
   "source": [
    "### Using InChI to search for pKa from PubChem\n",
    "\n",
    "**InChI representation can be different for 1 compound (e.g. tautomers)**. \n",
    "\n",
    "**Do NOT use InChI to look up CAS from PubChem, PubChem does not distinguish tautomers**\n",
    "\n",
    "In the example below: structure with 'InChI=1S/C10H10N2O/c1-12-10(13)7-9(11-12)8-5-3-2-4-6-8/h2-7,13H,1H3' is tautomer of that found in pubchem: 'InChI=1S/C10H10N2O/c1-12-10(13)7-9(11-12)8-5-3-2-4-6-8/h2-7,11H,1H3'"
   ]
  },
  {
   "cell_type": "code",
   "execution_count": 9,
   "metadata": {},
   "outputs": [
    {
     "name": "stdout",
     "output_type": "stream",
     "text": [
      "source inchi: InChI=1S/C10H10N2O/c1-12-10(13)7-9(11-12)8-5-3-2-4-6-8/h2-7,13H,1H3\n",
      "[{'CID': 2763504, 'CanonicalSMILES': 'CN1C(=O)C=C(N1)C2=CC=CC=C2', 'IsomericSMILES': 'CN1C(=O)C=C(N1)C2=CC=CC=C2', 'InChI': 'InChI=1S/C10H10N2O/c1-12-10(13)7-9(11-12)8-5-3-2-4-6-8/h2-7,11H,1H3', 'InChIKey': 'INOLYMVSZFIBGA-UHFFFAOYSA-N'}]\n",
      "Is source and lookup inchi the same: False\n",
      "pKa from Pubchem using InChI: None\n"
     ]
    }
   ],
   "source": [
    "# source_inchi = 'InChI=1S/C6H5FS/c7-5-1-3-6(8)4-2-5/h1-4,8H'    # from: 'DSSTox_DWPKAA_20181127.xlsx'\n",
    "# source_inchi = 'InChI=1S/C6H5ClS/c7-5-2-1-3-6(8)4-5/h1-4,8H'    # from: 'DSSTox_DWPKAA_20181127.xlsx'\n",
    "source_inchi = 'InChI=1S/C10H10N2O/c1-12-10(13)7-9(11-12)8-5-3-2-4-6-8/h2-7,13H,1H3'    # from 'Opt3_acidic_tr.xlsx'\n",
    "# source_inchi = 'InChI=1S/C6H5FS/c7-5-1-3-6(8)4-2-5/h1-4,8H'\n",
    "\n",
    "print(f'source inchi: {source_inchi}')\n",
    "\n",
    "# Look up InChI using Pubchem\n",
    "lookup_inchi = pcp.get_properties(['inchi', 'inchikey', 'canonical_smiles', 'isomeric_smiles'], source_inchi, 'inchi')\n",
    "print(lookup_inchi)\n",
    "print(f\"Is source and lookup inchi the same: {source_inchi == lookup_inchi[0]['InChI']}\")\n",
    "      \n",
    "print(f'pKa from Pubchem using InChI: {pka_lookup_pubchem(source_inchi)}')"
   ]
  },
  {
   "cell_type": "markdown",
   "metadata": {},
   "source": [
    "### Using InChIKey to search for pKa from PubChem\n",
    "**Unlike InChI, InChIKey can be duplicate, albeit very rare**: https://en.wikipedia.org/wiki/International_Chemical_Identifier\n"
   ]
  },
  {
   "cell_type": "code",
   "execution_count": 10,
   "metadata": {},
   "outputs": [
    {
     "name": "stdout",
     "output_type": "stream",
     "text": [
      "source inchikey: FTUPSXHUCWFVNH-UHFFFAOYSA-N\n",
      "[{'CID': 12421053, 'InChIKey': 'FTUPSXHUCWFVNH-UHFFFAOYSA-N'}]\n",
      "Is source and lookup inchikey the same: True\n",
      "CAS: 64754-67-2\n",
      "pKa from Pubchem using CAS: None\n",
      "pKa from Pubchem using InChIKey: None\n"
     ]
    }
   ],
   "source": [
    "# source_inchikey = 'OKIHXNKYYGUVTE-UHFFFAOYSA-N'    # from: 'DSSTox_DWPKAA_20181127.xlsx'\n",
    "# source_inchikey = 'NRFHROYGWWFLKU-UHFFFAOYSA-N'    # from 'Opt3_acidic_tr.xlsx'  >>> empty result from pubchem\n",
    "# source_inchikey = 'CQJDYPZUDYXHLM-UHFFFAOYSA-N'    # from: 'DSSTox_DWPKAA_20181127.xlsx'\n",
    "source_inchikey = 'FTUPSXHUCWFVNH-UHFFFAOYSA-N'    # from 'Opt3_acidic_tr.xlsx'\n",
    "\n",
    "print(f'source inchikey: {source_inchikey}')\n",
    "\n",
    "# Look up InChIkey using Pubchem\n",
    "lookup_inchikey = pcp.get_properties('inchikey', source_inchikey, 'inchikey')\n",
    "print(lookup_inchikey)\n",
    "print(f\"Is source and lookup inchikey the same: {source_inchikey == lookup_inchikey[0]['InChIKey']}\")\n",
    "\n",
    "\n",
    "# Look up CAS:\n",
    "cas_nr = get_cas(source_inchikey)[0]['CASNumber'] or None\n",
    "print(f'CAS: {cas_nr}')\n",
    "\n",
    "# Look up pKa using pka_lookup_pubchem():\n",
    "# result_from_pubchem = pka_lookup_pubchem(cas_nr)\n",
    "print(f'pKa from Pubchem using CAS: {pka_lookup_pubchem(cas_nr)}')\n",
    "# result_from_pubchem = pka_lookup_pubchem(source_inchikey)\n",
    "print(f'pKa from Pubchem using InChIKey: {pka_lookup_pubchem(source_inchikey)}')"
   ]
  },
  {
   "cell_type": "code",
   "execution_count": null,
   "metadata": {},
   "outputs": [],
   "source": []
  }
 ],
 "metadata": {
  "kernelspec": {
   "display_name": "Python 3",
   "language": "python",
   "name": "python3"
  },
  "language_info": {
   "codemirror_mode": {
    "name": "ipython",
    "version": 3
   },
   "file_extension": ".py",
   "mimetype": "text/x-python",
   "name": "python",
   "nbconvert_exporter": "python",
   "pygments_lexer": "ipython3",
   "version": "3.7.3"
  }
 },
 "nbformat": 4,
 "nbformat_minor": 2
}
